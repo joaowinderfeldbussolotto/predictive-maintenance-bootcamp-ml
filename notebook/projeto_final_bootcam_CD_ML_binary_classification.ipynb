{
  "nbformat": 4,
  "nbformat_minor": 0,
  "metadata": {
    "colab": {
      "provenance": []
    },
    "kernelspec": {
      "name": "python3",
      "display_name": "Python 3"
    },
    "language_info": {
      "name": "python"
    }
  },
  "cells": [
    {
      "cell_type": "markdown",
      "source": [
        "\n",
        "# Predição de Falhas em Máquinas - Classificação Binária\n",
        "## Pipeline de Machine Learning\n",
        "\n",
        "### Resumo Executivo\n",
        "Este notebook implementa um pipeline abrangente de machine learning para classificação binária de falhas em máquinas. Avaliamos múltiplos algoritmos com diferentes estratégias de balanceamento de classes para otimizar o F1-score, que é crucial para minimizar tanto falsos positivos (manutenção desnecessária) quanto falsos negativos (falhas perdidas).\n",
        "\n",
        "### Contexto de Negócio\n",
        "- **Objetivo**: Prever falhas em máquinas para permitir manutenção proativa\n",
        "- **Métrica Principal**: F1-Score (equilibra precisão e recall)\n",
        "- **Impacto**: Reduzir tempo de inatividade e custos de manutenção\n",
        "\n"
      ],
      "metadata": {
        "id": "NCsaLDxw90fq"
      }
    },
    {
      "cell_type": "code",
      "source": [
        "!pip install -q imblearn\n",
        "!pip install -q xgboost\n",
        "!pip install -q catboost"
      ],
      "metadata": {
        "id": "5AdkO5_Y9_B4"
      },
      "execution_count": null,
      "outputs": []
    },
    {
      "cell_type": "code",
      "execution_count": null,
      "metadata": {
        "id": "CLi_PGzw9Cjb"
      },
      "outputs": [],
      "source": [
        "import pandas as pd\n",
        "import numpy as np\n",
        "import warnings\n",
        "warnings.filterwarnings(\"ignore\")\n",
        "\n",
        "# Bibliotecas de ML\n",
        "from sklearn.model_selection import train_test_split, StratifiedKFold, cross_val_score\n",
        "from sklearn.preprocessing import LabelEncoder, OneHotEncoder, MinMaxScaler, StandardScaler\n",
        "from sklearn.compose import ColumnTransformer\n",
        "from sklearn.pipeline import Pipeline\n",
        "from sklearn.metrics import (classification_report, f1_score, precision_score,\n",
        "                           recall_score, confusion_matrix, roc_auc_score,\n",
        "                           precision_recall_curve, roc_curve, ConfusionMatrixDisplay)\n",
        "\n",
        "# Algoritmos\n",
        "from sklearn.ensemble import RandomForestClassifier, GradientBoostingClassifier\n",
        "from sklearn.linear_model import LogisticRegression\n",
        "from sklearn.neural_network import MLPClassifier\n",
        "from sklearn.utils.class_weight import compute_sample_weight\n",
        "from xgboost import XGBClassifier\n",
        "from catboost import CatBoostClassifier\n",
        "\n",
        "# Tratamento de desbalanceamento\n",
        "from imblearn.over_sampling import SMOTE\n",
        "\n",
        "# Utilitários\n",
        "import joblib\n",
        "import matplotlib.pyplot as plt\n",
        "import seaborn as sns\n",
        "from collections import Counter\n",
        "\n",
        "# Configurar estilo dos gráficos\n",
        "plt.style.use('seaborn-v0_8')\n",
        "sns.set_palette(\"husl\")"
      ]
    },
    {
      "cell_type": "markdown",
      "source": [
        "# Carregar dados"
      ],
      "metadata": {
        "id": "nUocPWjS-VBX"
      }
    },
    {
      "cell_type": "code",
      "source": [
        "from google.colab import drive\n",
        "import shutil\n",
        "import os\n",
        "\n",
        "# Mount Google Drive\n",
        "drive.mount('/content/drive')\n",
        "\n",
        "# Define the path to the file in your Drive\n",
        "file_path_in_drive = '/content/drive/MyDrive/SENAI/data/processed_df.csv'\n",
        "destination_path = './processed_df.csv'\n",
        "\n",
        "# Check if the file exists in Drive and copy it\n",
        "if os.path.exists(file_path_in_drive):\n",
        "    shutil.copyfile(file_path_in_drive, destination_path)\n",
        "    print(f\"File copied from '{file_path_in_drive}' to '{destination_path}'\")\n",
        "else:\n",
        "    print(f\"File not found in Drive at '{file_path_in_drive}'\")"
      ],
      "metadata": {
        "colab": {
          "base_uri": "https://localhost:8080/"
        },
        "id": "LcYyGh3z-f1i",
        "outputId": "0db9170a-48e5-4d84-c5d7-61f693c649b9"
      },
      "execution_count": null,
      "outputs": [
        {
          "output_type": "stream",
          "name": "stdout",
          "text": [
            "Drive already mounted at /content/drive; to attempt to forcibly remount, call drive.mount(\"/content/drive\", force_remount=True).\n",
            "File copied from '/content/drive/MyDrive/SENAI/data/processed_df.csv' to './processed_df.csv'\n"
          ]
        }
      ]
    },
    {
      "cell_type": "code",
      "source": [
        "def load_and_prepare_data(filepath='processed_df.csv'):\n",
        "    \"\"\"\n",
        "    Carrega e prepara os dados para classificação binária.\n",
        "\n",
        "    Returns:\n",
        "        pd.DataFrame: Dataset preparado para classificação binária\n",
        "    \"\"\"\n",
        "    df = pd.read_csv(filepath)\n",
        "\n",
        "    # Converter colunas de falha para inteiro\n",
        "    failure_columns = [col for col in df.columns if col.startswith('f')]\n",
        "    for col in failure_columns:\n",
        "        df[col] = df[col].astype(int)\n",
        "\n",
        "    # Selecionar características essenciais para classificação binária\n",
        "    feature_columns = [\n",
        "        'tipo', 'temperatura_ar', 'temperatura_processo',\n",
        "        'umidade_relativa', 'velocidade_rotacional', 'torque',\n",
        "        'desgaste_da_ferramenta', 'falha_maquina', 'sensor_ok'\n",
        "    ]\n",
        "\n",
        "    df_binary = df[feature_columns].copy()\n",
        "\n",
        "    # Converter target para numérico\n",
        "    le = LabelEncoder()\n",
        "    df_binary['target'] = le.fit_transform(df_binary['falha_maquina'])\n",
        "    df_binary['sensor_ok'] = le.fit_transform(df_binary['sensor_ok'])\n",
        "\n",
        "    return df_binary, le\n"
      ],
      "metadata": {
        "id": "OMQIPqgF98Y2"
      },
      "execution_count": null,
      "outputs": []
    },
    {
      "cell_type": "code",
      "source": [
        "df_binary, label_encoder = load_and_prepare_data()\n",
        "\n",
        "print(f\"Shape do dataset: {df_binary.shape}\")\n",
        "print(f\"Distribuição das classes:\")\n",
        "print(df_binary['target'].value_counts())\n",
        "print(f\"Taxa de desbalanceamento: {df_binary['target'].value_counts()[0] / df_binary['target'].value_counts()[1]:.2f}:1\")"
      ],
      "metadata": {
        "colab": {
          "base_uri": "https://localhost:8080/"
        },
        "id": "EjKMyUJd-S0a",
        "outputId": "82a565b5-fc5b-456a-88fa-f474984cc473"
      },
      "execution_count": null,
      "outputs": [
        {
          "output_type": "stream",
          "name": "stdout",
          "text": [
            "Shape do dataset: (35260, 10)\n",
            "Distribuição das classes:\n",
            "target\n",
            "0    34610\n",
            "1      650\n",
            "Name: count, dtype: int64\n",
            "Taxa de desbalanceamento: 53.25:1\n"
          ]
        }
      ]
    },
    {
      "cell_type": "code",
      "source": [
        "def create_feature_target_split(df):\n",
        "    \"\"\"\n",
        "    Separa features e target, identificando tipos de variáveis.\n",
        "\n",
        "    Returns:\n",
        "        tuple: X, y, numeric_features, categorical_features\n",
        "    \"\"\"\n",
        "    # Separar features e target\n",
        "    X = df.drop(['falha_maquina', 'target'], axis=1)\n",
        "    y = df['target']\n",
        "\n",
        "    # Identificar tipos de variáveis\n",
        "    numeric_features = X.select_dtypes(include=[np.number]).columns.tolist()\n",
        "    categorical_features = X.select_dtypes(exclude=[np.number]).columns.tolist()\n",
        "\n",
        "    return X, y, numeric_features, categorical_features"
      ],
      "metadata": {
        "id": "UWfZ0SHr_BFU"
      },
      "execution_count": null,
      "outputs": []
    },
    {
      "cell_type": "code",
      "source": [
        "X, y, numeric_features, categorical_features = create_feature_target_split(df_binary)\n",
        "\n",
        "print(f\"Features numéricas: {numeric_features}\")\n",
        "print(f\"Features categóricas: {categorical_features}\")\n",
        "print(f\"Total de features: {len(numeric_features) + len(categorical_features)}\")"
      ],
      "metadata": {
        "colab": {
          "base_uri": "https://localhost:8080/"
        },
        "id": "iV2nwVYQ_IDn",
        "outputId": "65349ca4-b61e-4269-f87d-a2276de2519b"
      },
      "execution_count": null,
      "outputs": [
        {
          "output_type": "stream",
          "name": "stdout",
          "text": [
            "Features numéricas: ['temperatura_ar', 'temperatura_processo', 'umidade_relativa', 'velocidade_rotacional', 'torque', 'desgaste_da_ferramenta', 'sensor_ok']\n",
            "Features categóricas: ['tipo']\n",
            "Total de features: 8\n"
          ]
        }
      ]
    },
    {
      "cell_type": "markdown",
      "source": [
        "# Divisão estratificada treino/teste\n"
      ],
      "metadata": {
        "id": "upuepzxs_My8"
      }
    },
    {
      "cell_type": "code",
      "source": [
        "X_train, X_test, y_train, y_test = train_test_split(\n",
        "    X, y, test_size=0.2, random_state=42, stratify=y\n",
        ")\n",
        "\n",
        "print(f\"Treino: {X_train.shape}, Teste: {X_test.shape}\")\n",
        "print(f\"Distribuição treino: {Counter(y_train)}\")\n",
        "print(f\"Distribuição teste: {Counter(y_test)}\")"
      ],
      "metadata": {
        "colab": {
          "base_uri": "https://localhost:8080/"
        },
        "id": "FEywCbs0_Nm7",
        "outputId": "c23cdb68-e2a4-4d02-9c5b-b5648f478c6e"
      },
      "execution_count": null,
      "outputs": [
        {
          "output_type": "stream",
          "name": "stdout",
          "text": [
            "Treino: (28208, 8), Teste: (7052, 8)\n",
            "Distribuição treino: Counter({0: 27688, 1: 520})\n",
            "Distribuição teste: Counter({0: 6922, 1: 130})\n"
          ]
        }
      ]
    },
    {
      "cell_type": "markdown",
      "source": [
        "## 3. Pipeline de Pré-processamento\n",
        "\n",
        "### Justificativa das Escolhas de Pré-processamento:\n",
        "- **MinMaxScaler**: Preserva distribuições e funciona bem com algoritmos baseados em árvore\n",
        "- **OneHotEncoder**: Trata variáveis categóricas sem assumir ordem\n",
        "- **handle_unknown='ignore'**: Robustez para novos valores em produção\n"
      ],
      "metadata": {
        "id": "4AJlfYDY_Q7X"
      }
    },
    {
      "cell_type": "code",
      "source": [
        "def create_preprocessor(numeric_features, categorical_features):\n",
        "    \"\"\"\n",
        "    Cria pipeline de pré-processamento robusto.\n",
        "\n",
        "    Returns:\n",
        "        ColumnTransformer: Preprocessador configurado\n",
        "    \"\"\"\n",
        "    preprocessor = ColumnTransformer(\n",
        "        transformers=[\n",
        "            ('num', MinMaxScaler(), numeric_features),\n",
        "            ('cat', OneHotEncoder(handle_unknown='ignore'), categorical_features)\n",
        "        ],\n",
        "        remainder='passthrough'\n",
        "    )\n",
        "    return preprocessor\n",
        "\n",
        "preprocessor = create_preprocessor(numeric_features, categorical_features)"
      ],
      "metadata": {
        "id": "FYM5ZJ3U_Rys"
      },
      "execution_count": null,
      "outputs": []
    },
    {
      "cell_type": "code",
      "source": [
        "def evaluate_model(pipeline, X_train, y_train, X_test, y_test, model_name, strategy=\"\"):\n",
        "    \"\"\"\n",
        "    Avalia modelo com métricas focadas em classificação binária desbalanceada.\n",
        "\n",
        "    Returns:\n",
        "        dict: Dicionário com métricas calculadas\n",
        "    \"\"\"\n",
        "    # Treinar\n",
        "    pipeline.fit(X_train, y_train)\n",
        "\n",
        "    # Predizer\n",
        "    y_pred = pipeline.predict(X_test)\n",
        "    y_proba = pipeline.predict_proba(X_test)[:, 1] if hasattr(pipeline, 'predict_proba') else None\n",
        "\n",
        "    # Calcular métricas\n",
        "    f1 = f1_score(y_test, y_pred, pos_label=1)\n",
        "    precision = precision_score(y_test, y_pred, pos_label=1, zero_division=0)\n",
        "    recall = recall_score(y_test, y_pred, pos_label=1, zero_division=0)\n",
        "    auc = roc_auc_score(y_test, y_proba) if y_proba is not None else None\n",
        "\n",
        "    resultado = {\n",
        "        'model': model_name,\n",
        "        'strategy': strategy,\n",
        "        'f1_score': f1,\n",
        "        'precision': precision,\n",
        "        'recall': recall,\n",
        "        'auc_roc': auc\n",
        "    }\n",
        "\n",
        "    print(f\"{model_name} ({strategy})\")\n",
        "    print(f\"F1-Score: {f1:.4f} | Precision: {precision:.4f} | Recall: {recall:.4f}\")\n",
        "    if auc:\n",
        "        print(f\"AUC-ROC: {auc:.4f}\")\n",
        "    print(\"-\" * 60)\n",
        "\n",
        "    return resultado, pipeline"
      ],
      "metadata": {
        "id": "WCzwfUBB_XHj"
      },
      "execution_count": null,
      "outputs": []
    },
    {
      "cell_type": "markdown",
      "source": [
        "### Justificativa da Seleção de Algoritmos:\n",
        "- **Logistic Regression**: Baseline interpretável e rápido\n",
        "- **Random Forest**: Robusto, lida bem com features mistas\n",
        "- **Gradient Boosting**: Excelente performance em dados tabulares\n",
        "- **XGBoost**: Estado da arte em competições, otimizado\n",
        "- **CatBoost**: Especializado em features categóricas\n",
        "- **Neural Network**: Captura relações não-lineares complexas"
      ],
      "metadata": {
        "id": "D0jPkYyp_ZVR"
      }
    },
    {
      "cell_type": "code",
      "source": [
        "def get_model_configurations():\n",
        "    \"\"\"\n",
        "    Define configurações dos modelos com hiperparâmetros otimizados.\n",
        "\n",
        "    Returns:\n",
        "        dict: Dicionário com modelos configurados\n",
        "    \"\"\"\n",
        "    models = {\n",
        "        'LogisticRegression': LogisticRegression(\n",
        "            max_iter=1000,\n",
        "            random_state=42\n",
        "        ),\n",
        "        'RandomForest': RandomForestClassifier(\n",
        "            n_estimators=100,\n",
        "            max_depth=10,\n",
        "            min_samples_split=5,\n",
        "            random_state=42\n",
        "        ),\n",
        "        'GradientBoosting': GradientBoostingClassifier(\n",
        "            n_estimators=100,\n",
        "            learning_rate=0.1,\n",
        "            max_depth=6,\n",
        "            random_state=42\n",
        "        ),\n",
        "        'XGBoost': XGBClassifier(\n",
        "            n_estimators=100,\n",
        "            learning_rate=0.1,\n",
        "            max_depth=6,\n",
        "            eval_metric='logloss',\n",
        "            random_state=42\n",
        "        ),\n",
        "        'CatBoost': CatBoostClassifier(\n",
        "            iterations=100,\n",
        "            learning_rate=0.1,\n",
        "            depth=6,\n",
        "            verbose=False,\n",
        "            random_seed=42\n",
        "        ),\n",
        "        'NeuralNetwork': MLPClassifier(\n",
        "            hidden_layer_sizes=(100, 50),\n",
        "            max_iter=300,\n",
        "            alpha=0.001,\n",
        "            random_state=42,\n",
        "            early_stopping=True,\n",
        "            validation_fraction=0.1\n",
        "        )\n",
        "    }\n",
        "    return models\n",
        "\n",
        "models = get_model_configurations()"
      ],
      "metadata": {
        "id": "ol0KXruX_ZyB"
      },
      "execution_count": null,
      "outputs": []
    },
    {
      "cell_type": "markdown",
      "source": [
        "## 6. Estratégias para Classes Desbalanceadas\n",
        "\n",
        "### Por que múltiplas estratégias?\n",
        "- **Sem balanceamento**: Baseline para comparação\n",
        "- **SMOTE**: Synthetic Minority Oversampling - cria exemplos sintéticos\n",
        "- **Class weights**: Penaliza erros na classe minoritária\n",
        "- **Threshold tuning**: Otimiza ponto de decisão"
      ],
      "metadata": {
        "id": "XJcp5FyH_mY5"
      }
    },
    {
      "cell_type": "code",
      "source": [
        "pos_class_weight = len(y_train[y_train == 0]) / len(y_train[y_train == 1])\n",
        "sample_weights = compute_sample_weight(class_weight='balanced', y=y_train)\n",
        "\n",
        "print(f\"Peso calculado para classe positiva: {pos_class_weight:.2f}\")\n",
        "print(f\"Razão de desbalanceamento: {pos_class_weight:.1f}:1\")"
      ],
      "metadata": {
        "colab": {
          "base_uri": "https://localhost:8080/"
        },
        "id": "pc276h0l_nXL",
        "outputId": "d745f351-80d6-4424-d5b1-1f7e2b86735f"
      },
      "execution_count": null,
      "outputs": [
        {
          "output_type": "stream",
          "name": "stdout",
          "text": [
            "Peso calculado para classe positiva: 53.25\n",
            "Razão de desbalanceamento: 53.2:1\n"
          ]
        }
      ]
    },
    {
      "cell_type": "code",
      "source": [
        "pos_class_weight = len(y_train[y_train == 0]) / len(y_train[y_train == 1])\n",
        "sample_weights = compute_sample_weight(class_weight='balanced', y=y_train)\n",
        "\n",
        "print(f\"Peso calculado para classe positiva: {pos_class_weight:.2f}\")\n",
        "print(f\"Razão de desbalanceamento: {pos_class_weight:.1f}:1\")"
      ],
      "metadata": {
        "colab": {
          "base_uri": "https://localhost:8080/"
        },
        "id": "hh3LaqFA_vPZ",
        "outputId": "8f86f791-0b11-4e48-aaab-6f20eff11120"
      },
      "execution_count": null,
      "outputs": [
        {
          "output_type": "stream",
          "name": "stdout",
          "text": [
            "Peso calculado para classe positiva: 53.25\n",
            "Razão de desbalanceamento: 53.2:1\n"
          ]
        }
      ]
    },
    {
      "cell_type": "code",
      "source": [
        "results = []\n",
        "\n",
        "# 1. Experimento: Sem Balanceamento (Baseline)\n",
        "print(\"=\"*70)\n",
        "print(\"EXPERIMENTO 1: SEM BALANCEAMENTO (BASELINE)\")\n",
        "print(\"=\"*70)\n",
        "\n",
        "for model_name, model in models.items():\n",
        "    pipeline = Pipeline([\n",
        "        ('preprocessor', preprocessor),\n",
        "        ('classifier', model)\n",
        "    ])\n",
        "\n",
        "    result, _ = evaluate_model(\n",
        "        pipeline, X_train, y_train, X_test, y_test,\n",
        "        model_name, \"baseline\"\n",
        "    )\n",
        "    results.append(result)"
      ],
      "metadata": {
        "colab": {
          "base_uri": "https://localhost:8080/"
        },
        "id": "75ggOQL0_3P-",
        "outputId": "9ce993ae-b429-4267-9181-62758c782448"
      },
      "execution_count": null,
      "outputs": [
        {
          "output_type": "stream",
          "name": "stdout",
          "text": [
            "======================================================================\n",
            "EXPERIMENTO 1: SEM BALANCEAMENTO (BASELINE)\n",
            "======================================================================\n",
            "LogisticRegression (baseline)\n",
            "F1-Score: 0.0000 | Precision: 0.0000 | Recall: 0.0000\n",
            "AUC-ROC: 0.7983\n",
            "------------------------------------------------------------\n",
            "RandomForest (baseline)\n",
            "F1-Score: 0.3145 | Precision: 0.8621 | Recall: 0.1923\n",
            "AUC-ROC: 0.9002\n",
            "------------------------------------------------------------\n",
            "GradientBoosting (baseline)\n",
            "F1-Score: 0.5158 | Precision: 0.6264 | Recall: 0.4385\n",
            "AUC-ROC: 0.8881\n",
            "------------------------------------------------------------\n",
            "XGBoost (baseline)\n",
            "F1-Score: 0.4776 | Precision: 0.6761 | Recall: 0.3692\n",
            "AUC-ROC: 0.8964\n",
            "------------------------------------------------------------\n",
            "CatBoost (baseline)\n",
            "F1-Score: 0.3030 | Precision: 0.7143 | Recall: 0.1923\n",
            "AUC-ROC: 0.8899\n",
            "------------------------------------------------------------\n",
            "NeuralNetwork (baseline)\n",
            "F1-Score: 0.0153 | Precision: 1.0000 | Recall: 0.0077\n",
            "AUC-ROC: 0.8048\n",
            "------------------------------------------------------------\n"
          ]
        }
      ]
    },
    {
      "cell_type": "code",
      "source": [
        "print(\"=\"*70)\n",
        "print(\"EXPERIMENTO 2: SMOTE (OVERSAMPLING SINTÉTICO)\")\n",
        "print(\"=\"*70)\n",
        "\n",
        "# Preparar dados com SMOTE\n",
        "X_train_processed = preprocessor.fit_transform(X_train)\n",
        "X_test_processed = preprocessor.transform(X_test)\n",
        "\n",
        "smote = SMOTE(random_state=42)\n",
        "X_train_smote, y_train_smote = smote.fit_resample(X_train_processed, y_train)\n",
        "\n",
        "print(f\"Distribuição após SMOTE: {Counter(y_train_smote)}\")\n",
        "print()\n",
        "\n",
        "for model_name, model in models.items():\n",
        "    model.fit(X_train_smote, y_train_smote)\n",
        "    y_pred = model.predict(X_test_processed)\n",
        "    y_proba = model.predict_proba(X_test_processed)[:, 1] if hasattr(model, 'predict_proba') else None\n",
        "\n",
        "    # Calcular métricas\n",
        "    f1 = f1_score(y_test, y_pred, pos_label=1)\n",
        "    precision = precision_score(y_test, y_pred, pos_label=1, zero_division=0)\n",
        "    recall = recall_score(y_test, y_pred, pos_label=1, zero_division=0)\n",
        "    auc = roc_auc_score(y_test, y_proba) if y_proba is not None else None\n",
        "\n",
        "    result = {\n",
        "        'model': model_name,\n",
        "        'strategy': 'SMOTE',\n",
        "        'f1_score': f1,\n",
        "        'precision': precision,\n",
        "        'recall': recall,\n",
        "        'auc_roc': auc\n",
        "    }\n",
        "    results.append(result)\n",
        "\n",
        "    print(f\"{model_name} (SMOTE)\")\n",
        "    print(f\"F1-Score: {f1:.4f} | Precision: {precision:.4f} | Recall: {recall:.4f}\")\n",
        "    if auc:\n",
        "        print(f\"AUC-ROC: {auc:.4f}\")\n",
        "    print(\"-\" * 60)"
      ],
      "metadata": {
        "colab": {
          "base_uri": "https://localhost:8080/"
        },
        "id": "aGXH3rFI_x3F",
        "outputId": "55281a48-fdb4-45f5-8c0b-251ab29ff353"
      },
      "execution_count": null,
      "outputs": [
        {
          "output_type": "stream",
          "name": "stdout",
          "text": [
            "======================================================================\n",
            "EXPERIMENTO 2: SMOTE (OVERSAMPLING SINTÉTICO)\n",
            "======================================================================\n",
            "Distribuição após SMOTE: Counter({0: 27688, 1: 27688})\n",
            "\n",
            "LogisticRegression (SMOTE)\n",
            "F1-Score: 0.0935 | Precision: 0.0500 | Recall: 0.7154\n",
            "AUC-ROC: 0.7863\n",
            "------------------------------------------------------------\n",
            "RandomForest (SMOTE)\n",
            "F1-Score: 0.2765 | Precision: 0.1776 | Recall: 0.6231\n",
            "AUC-ROC: 0.8892\n",
            "------------------------------------------------------------\n",
            "GradientBoosting (SMOTE)\n",
            "F1-Score: 0.2889 | Precision: 0.1902 | Recall: 0.6000\n",
            "AUC-ROC: 0.8716\n",
            "------------------------------------------------------------\n",
            "XGBoost (SMOTE)\n",
            "F1-Score: 0.3029 | Precision: 0.1986 | Recall: 0.6385\n",
            "AUC-ROC: 0.8795\n",
            "------------------------------------------------------------\n",
            "CatBoost (SMOTE)\n",
            "F1-Score: 0.2291 | Precision: 0.1364 | Recall: 0.7154\n",
            "AUC-ROC: 0.8947\n",
            "------------------------------------------------------------\n",
            "NeuralNetwork (SMOTE)\n",
            "F1-Score: 0.1985 | Precision: 0.1152 | Recall: 0.7154\n",
            "AUC-ROC: 0.8459\n",
            "------------------------------------------------------------\n"
          ]
        }
      ]
    },
    {
      "cell_type": "code",
      "source": [
        "from imblearn.under_sampling import RandomUnderSampler\n",
        "\n",
        "print(\"=\"*70)\n",
        "print(\"EXPERIMENTO 3: UNDERSAMPLING (PROPORÇÃO 90:10)\")\n",
        "print(\"=\"*70)\n",
        "\n",
        "# Calcular número de amostras para manter proporção 90:10\n",
        "n_minority = sum(y_train == 1)\n",
        "n_majority_target = int(n_minority * 9)  # 90:10 = 9:1\n",
        "\n",
        "# Configurar undersampler\n",
        "undersampler = RandomUnderSampler(\n",
        "    sampling_strategy={0: n_majority_target, 1: n_minority},\n",
        "    random_state=42\n",
        ")\n",
        "\n",
        "X_train_under, y_train_under = undersampler.fit_resample(X_train_processed, y_train)\n",
        "\n",
        "print(f\"Distribuição original: {Counter(y_train)}\")\n",
        "print(f\"Distribuição após undersampling: {Counter(y_train_under)}\")\n",
        "print(f\"Proporção final: {Counter(y_train_under)[0]/Counter(y_train_under)[1]:.1f}:1\")\n",
        "print()\n",
        "\n",
        "for model_name, model in models.items():\n",
        "    model.fit(X_train_under, y_train_under)\n",
        "    y_pred = model.predict(X_test_processed)\n",
        "    y_proba = model.predict_proba(X_test_processed)[:, 1] if hasattr(model, 'predict_proba') else None\n",
        "\n",
        "    # Calcular métricas\n",
        "    f1 = f1_score(y_test, y_pred, pos_label=1)\n",
        "    precision = precision_score(y_test, y_pred, pos_label=1, zero_division=0)\n",
        "    recall = recall_score(y_test, y_pred, pos_label=1, zero_division=0)\n",
        "    auc = roc_auc_score(y_test, y_proba) if y_proba is not None else None\n",
        "\n",
        "    result = {\n",
        "        'model': model_name,\n",
        "        'strategy': 'undersampling_90_10',\n",
        "        'f1_score': f1,\n",
        "        'precision': precision,\n",
        "        'recall': recall,\n",
        "        'auc_roc': auc\n",
        "    }\n",
        "    results.append(result)\n",
        "\n",
        "    print(f\"{model_name} (Undersampling 90:10)\")\n",
        "    print(f\"F1-Score: {f1:.4f} | Precision: {precision:.4f} | Recall: {recall:.4f}\")\n",
        "    if auc:\n",
        "        print(f\"AUC-ROC: {auc:.4f}\")\n",
        "    print(\"-\" * 60)"
      ],
      "metadata": {
        "colab": {
          "base_uri": "https://localhost:8080/"
        },
        "id": "zg94iHH3_4Yy",
        "outputId": "b06bfc46-5faf-40d0-e50f-b174038cbe9b"
      },
      "execution_count": null,
      "outputs": [
        {
          "output_type": "stream",
          "name": "stdout",
          "text": [
            "======================================================================\n",
            "EXPERIMENTO 3: UNDERSAMPLING (PROPORÇÃO 90:10)\n",
            "======================================================================\n",
            "Distribuição original: Counter({0: 27688, 1: 520})\n",
            "Distribuição após undersampling: Counter({0: 4680, 1: 520})\n",
            "Proporção final: 9.0:1\n",
            "\n",
            "LogisticRegression (Undersampling 90:10)\n",
            "F1-Score: 0.1600 | Precision: 0.6000 | Recall: 0.0923\n",
            "AUC-ROC: 0.7991\n",
            "------------------------------------------------------------\n",
            "RandomForest (Undersampling 90:10)\n",
            "F1-Score: 0.4589 | Precision: 0.4136 | Recall: 0.5154\n",
            "AUC-ROC: 0.9007\n",
            "------------------------------------------------------------\n",
            "GradientBoosting (Undersampling 90:10)\n",
            "F1-Score: 0.4171 | Precision: 0.3318 | Recall: 0.5615\n",
            "AUC-ROC: 0.8877\n",
            "------------------------------------------------------------\n",
            "XGBoost (Undersampling 90:10)\n",
            "F1-Score: 0.4532 | Precision: 0.3731 | Recall: 0.5769\n",
            "AUC-ROC: 0.8928\n",
            "------------------------------------------------------------\n",
            "CatBoost (Undersampling 90:10)\n",
            "F1-Score: 0.4304 | Precision: 0.3656 | Recall: 0.5231\n",
            "AUC-ROC: 0.8916\n",
            "------------------------------------------------------------\n",
            "NeuralNetwork (Undersampling 90:10)\n",
            "F1-Score: 0.2900 | Precision: 0.2388 | Recall: 0.3692\n",
            "AUC-ROC: 0.8488\n",
            "------------------------------------------------------------\n"
          ]
        }
      ]
    },
    {
      "cell_type": "code",
      "source": [
        "print(\"=\"*70)\n",
        "print(\"EXPERIMENTO 4: AJUSTE DE PESOS DAS CLASSES\")\n",
        "print(\"=\"*70)\n",
        "\n",
        "# Modelos com class_weight='balanced'\n",
        "balanced_models = {\n",
        "    'RandomForest': RandomForestClassifier(\n",
        "        n_estimators=100, max_depth=10, min_samples_split=5,\n",
        "        class_weight='balanced', random_state=42\n",
        "    ),\n",
        "    'LogisticRegression': LogisticRegression(\n",
        "        max_iter=1000, class_weight='balanced', random_state=42\n",
        "    )\n",
        "}\n",
        "\n",
        "for model_name, model in balanced_models.items():\n",
        "    pipeline = Pipeline([\n",
        "        ('preprocessor', preprocessor),\n",
        "        ('classifier', model)\n",
        "    ])\n",
        "\n",
        "    result, _ = evaluate_model(\n",
        "        pipeline, X_train, y_train, X_test, y_test,\n",
        "        model_name, \"class_weight_balanced\"\n",
        "    )\n",
        "    results.append(result)\n",
        "\n",
        "# XGBoost com scale_pos_weight\n",
        "xgb_weighted = Pipeline([\n",
        "    ('preprocessor', preprocessor),\n",
        "    ('classifier', XGBClassifier(\n",
        "        n_estimators=100, learning_rate=0.1, max_depth=6,\n",
        "        scale_pos_weight=pos_class_weight,\n",
        "        eval_metric='logloss', random_state=42\n",
        "    ))\n",
        "])\n",
        "\n",
        "result, _ = evaluate_model(\n",
        "    xgb_weighted, X_train, y_train, X_test, y_test,\n",
        "    'XGBoost', 'scale_pos_weight'\n",
        ")\n",
        "results.append(result)\n",
        "\n",
        "# CatBoost com class_weights\n",
        "catboost_weighted = Pipeline([\n",
        "    ('preprocessor', preprocessor),\n",
        "    ('classifier', CatBoostClassifier(\n",
        "        iterations=100, learning_rate=0.1, depth=6,\n",
        "        class_weights={0: 1, 1: pos_class_weight},\n",
        "        verbose=False, random_seed=42\n",
        "    ))\n",
        "])\n",
        "\n",
        "result, _ = evaluate_model(\n",
        "    catboost_weighted, X_train, y_train, X_test, y_test,\n",
        "    'CatBoost', 'class_weights'\n",
        ")\n",
        "results.append(result)"
      ],
      "metadata": {
        "colab": {
          "base_uri": "https://localhost:8080/"
        },
        "id": "QIjjb8S4BH1g",
        "outputId": "7f73ba07-0f70-4324-dca7-e884dfe76b8e"
      },
      "execution_count": null,
      "outputs": [
        {
          "output_type": "stream",
          "name": "stdout",
          "text": [
            "======================================================================\n",
            "EXPERIMENTO 4: AJUSTE DE PESOS DAS CLASSES\n",
            "======================================================================\n",
            "RandomForest (class_weight_balanced)\n",
            "F1-Score: 0.4136 | Precision: 0.3454 | Recall: 0.5154\n",
            "AUC-ROC: 0.8935\n",
            "------------------------------------------------------------\n",
            "LogisticRegression (class_weight_balanced)\n",
            "F1-Score: 0.0940 | Precision: 0.0502 | Recall: 0.7462\n",
            "AUC-ROC: 0.7884\n",
            "------------------------------------------------------------\n",
            "XGBoost (scale_pos_weight)\n",
            "F1-Score: 0.3453 | Precision: 0.2437 | Recall: 0.5923\n",
            "AUC-ROC: 0.8924\n",
            "------------------------------------------------------------\n",
            "CatBoost (class_weights)\n",
            "F1-Score: 0.2144 | Precision: 0.1252 | Recall: 0.7462\n",
            "AUC-ROC: 0.8976\n",
            "------------------------------------------------------------\n"
          ]
        }
      ]
    },
    {
      "cell_type": "code",
      "source": [
        "df_results = pd.DataFrame(results)\n",
        "df_results = df_results.sort_values('f1_score', ascending=False)\n",
        "\n",
        "print(\"=\"*80)\n",
        "print(\"RANKING FINAL - ORDENADO POR F1-SCORE\")\n",
        "print(\"=\"*80)\n",
        "print(df_results.round(4).to_string(index=False))\n",
        "print()\n",
        "\n",
        "# Identificar melhor modelo\n",
        "best_model = df_results.iloc[0]\n",
        "print(\"MELHOR MODELO:\")\n",
        "print(f\"Algoritmo: {best_model['model']}\")\n",
        "print(f\"Estratégia: {best_model['strategy']}\")\n",
        "print(f\"F1-Score: {best_model['f1_score']:.4f}\")\n",
        "print(f\"Precision: {best_model['precision']:.4f}\")\n",
        "print(f\"Recall: {best_model['recall']:.4f}\")\n",
        "if best_model['auc_roc']:\n",
        "    print(f\"AUC-ROC: {best_model['auc_roc']:.4f}\")"
      ],
      "metadata": {
        "colab": {
          "base_uri": "https://localhost:8080/"
        },
        "id": "8QQO0emVBWEP",
        "outputId": "aea47962-6947-4528-e275-31c8e1c86c41"
      },
      "execution_count": null,
      "outputs": [
        {
          "output_type": "stream",
          "name": "stdout",
          "text": [
            "================================================================================\n",
            "RANKING FINAL - ORDENADO POR F1-SCORE\n",
            "================================================================================\n",
            "             model              strategy  f1_score  precision  recall  auc_roc\n",
            "  GradientBoosting              baseline    0.5158     0.6264  0.4385   0.8881\n",
            "           XGBoost              baseline    0.4776     0.6761  0.3692   0.8964\n",
            "      RandomForest   undersampling_90_10    0.4589     0.4136  0.5154   0.9007\n",
            "           XGBoost   undersampling_90_10    0.4532     0.3731  0.5769   0.8928\n",
            "          CatBoost   undersampling_90_10    0.4304     0.3656  0.5231   0.8916\n",
            "  GradientBoosting   undersampling_90_10    0.4171     0.3318  0.5615   0.8877\n",
            "      RandomForest class_weight_balanced    0.4136     0.3454  0.5154   0.8935\n",
            "           XGBoost      scale_pos_weight    0.3453     0.2437  0.5923   0.8924\n",
            "      RandomForest              baseline    0.3145     0.8621  0.1923   0.9002\n",
            "          CatBoost              baseline    0.3030     0.7143  0.1923   0.8899\n",
            "           XGBoost                 SMOTE    0.3029     0.1986  0.6385   0.8795\n",
            "     NeuralNetwork   undersampling_90_10    0.2900     0.2388  0.3692   0.8488\n",
            "  GradientBoosting                 SMOTE    0.2889     0.1902  0.6000   0.8716\n",
            "      RandomForest                 SMOTE    0.2765     0.1776  0.6231   0.8892\n",
            "          CatBoost                 SMOTE    0.2291     0.1364  0.7154   0.8947\n",
            "          CatBoost         class_weights    0.2144     0.1252  0.7462   0.8976\n",
            "     NeuralNetwork                 SMOTE    0.1985     0.1152  0.7154   0.8459\n",
            "LogisticRegression   undersampling_90_10    0.1600     0.6000  0.0923   0.7991\n",
            "LogisticRegression class_weight_balanced    0.0940     0.0502  0.7462   0.7884\n",
            "LogisticRegression                 SMOTE    0.0935     0.0500  0.7154   0.7863\n",
            "     NeuralNetwork              baseline    0.0153     1.0000  0.0077   0.8048\n",
            "LogisticRegression              baseline    0.0000     0.0000  0.0000   0.7983\n",
            "\n",
            "MELHOR MODELO:\n",
            "Algoritmo: GradientBoosting\n",
            "Estratégia: baseline\n",
            "F1-Score: 0.5158\n",
            "Precision: 0.6264\n",
            "Recall: 0.4385\n",
            "AUC-ROC: 0.8881\n"
          ]
        }
      ]
    },
    {
      "cell_type": "markdown",
      "source": [
        "## 9. Modelo Final: XG Boost com Undersampling 90:10\n",
        "\n",
        "### Justificativa da Escolha:\n",
        "- **AUC-ROC mais alto (0.8928)**: Melhor discriminação entre classes\n",
        "- **F1-Score competitivo **: Bom equilíbrio entre precisão e recall\n",
        "- **Recall favorável**: Essencial para detectar falhas (evitar falsos negativos)"
      ],
      "metadata": {
        "id": "fStIgWAECHNr"
      }
    },
    {
      "cell_type": "code",
      "source": [
        "X_train_processed = preprocessor.fit_transform(X_train)\n",
        "X_test_processed = preprocessor.transform(X_test)\n",
        "\n",
        "# Configurar undersampling para modelo final\n",
        "n_minority = sum(y_train == 1)\n",
        "n_majority_target = int(n_minority * 9)  # Proporção 90:10\n",
        "\n",
        "undersampler_final = RandomUnderSampler(\n",
        "    sampling_strategy={0: n_majority_target, 1: n_minority},\n",
        "    random_state=42\n",
        ")\n",
        "\n",
        "X_train_final, y_train_final = undersampler_final.fit_resample(X_train_processed, y_train)\n",
        "\n",
        "# Modelo final: Random Forest\n",
        "final_model = XGBClassifier(\n",
        "            n_estimators=100,\n",
        "            learning_rate=0.1,\n",
        "            max_depth=6,\n",
        "            eval_metric='logloss',\n",
        "            random_state=42\n",
        ")\n",
        "\n",
        "# Treinar modelo final\n",
        "final_model.fit(X_train_final, y_train_final)\n",
        "\n",
        "print(f\"Dados de treinamento após undersampling: {Counter(y_train_final)}\")\n",
        "print(f\"Proporção final: {Counter(y_train_final)[0]/Counter(y_train_final)[1]:.1f}:1\")\n",
        "\n",
        "# Obter probabilidades para otimização de threshold\n",
        "y_proba = final_model.predict_proba(X_test_processed)[:, 1]\n",
        "\n",
        "# Otimizar threshold baseado em F1-Score\n",
        "precision_curve, recall_curve, thresholds_pr = precision_recall_curve(y_test, y_proba)\n",
        "f1_scores = 2 * (precision_curve * recall_curve) / (precision_curve + recall_curve)\n",
        "f1_scores = np.nan_to_num(f1_scores)\n",
        "\n",
        "best_f1_idx = np.argmax(f1_scores)\n",
        "best_threshold = thresholds_pr[best_f1_idx]\n",
        "best_f1_optimized = f1_scores[best_f1_idx]\n",
        "\n",
        "# Métricas com threshold padrão (0.5)\n",
        "y_pred_default = final_model.predict(X_test_processed)\n",
        "f1_default = f1_score(y_test, y_pred_default)\n",
        "\n",
        "print(\"OTIMIZAÇÃO DE THRESHOLD\")\n",
        "print(\"=\"*50)\n",
        "print(f\"Threshold padrão (0.5): F1-Score = {f1_default:.4f}\")\n",
        "print(f\"Threshold otimizado: {best_threshold:.4f}\")\n",
        "print(f\"F1-Score otimizado: {best_f1_optimized:.4f}\")\n",
        "print(f\"Melhoria no F1-Score: {((best_f1_optimized - f1_default) / f1_default * 100):+.1f}%\")"
      ],
      "metadata": {
        "colab": {
          "base_uri": "https://localhost:8080/"
        },
        "id": "jg8hBry_By1q",
        "outputId": "93af2bc3-7695-4424-8e2c-b8c6b7410632"
      },
      "execution_count": null,
      "outputs": [
        {
          "output_type": "stream",
          "name": "stdout",
          "text": [
            "Dados de treinamento após undersampling: Counter({0: 4680, 1: 520})\n",
            "Proporção final: 9.0:1\n",
            "OTIMIZAÇÃO DE THRESHOLD\n",
            "==================================================\n",
            "Threshold padrão (0.5): F1-Score = 0.4532\n",
            "Threshold otimizado: 0.7590\n",
            "F1-Score otimizado: 0.4979\n",
            "Melhoria no F1-Score: +9.9%\n"
          ]
        }
      ]
    },
    {
      "cell_type": "code",
      "source": [
        "def predict_with_optimized_threshold(model, preprocessor, undersampler, X_new, threshold=best_threshold):\n",
        "    \"\"\"\n",
        "    Faz predições usando o modelo Random Forest com undersampling e threshold otimizado.\n",
        "\n",
        "    Args:\n",
        "        model: Modelo Random Forest treinado\n",
        "        preprocessor: Pipeline de pré-processamento\n",
        "        undersampler: Não usado na predição (apenas no treinamento)\n",
        "        X_new: Novos dados para predição\n",
        "        threshold: Threshold otimizado\n",
        "\n",
        "    Returns:\n",
        "        tuple: (predictions, probabilities)\n",
        "    \"\"\"\n",
        "    # Pré-processar dados\n",
        "    X_processed = preprocessor.transform(X_new)\n",
        "\n",
        "    # Obter probabilidades\n",
        "    probas = model.predict_proba(X_processed)[:, 1]\n",
        "\n",
        "    # Aplicar threshold\n",
        "    predictions = (probas >= threshold).astype(int)\n",
        "\n",
        "    return predictions, probas"
      ],
      "metadata": {
        "id": "J4lidhD6CV3_"
      },
      "execution_count": null,
      "outputs": []
    },
    {
      "cell_type": "code",
      "source": [
        "from sklearn.metrics import classification_report, confusion_matrix\n",
        "import matplotlib.pyplot as plt\n",
        "import seaborn as sns\n",
        "from IPython.display import display, Markdown\n",
        "\n",
        "y_pred, _ = predict_with_optimized_threshold(final_model, preprocessor, undersampler_final, X_test, best_threshold)\n",
        "# Exibe o classification report formatado em Markdown\n",
        "report = classification_report(y_test, y_pred)\n",
        "display(Markdown(f'## Classification Report\\n```\\n{report}\\n```'))\n",
        "\n",
        "# Matriz de confusão com seaborn\n",
        "cm = confusion_matrix(y_test, y_pred)\n",
        "disp = ConfusionMatrixDisplay(confusion_matrix=cm)\n",
        "\n",
        "plt.figure(figsize=(4, 3))\n",
        "sns.heatmap(cm, annot=True, fmt=\"d\", cmap=\"Blues\")\n",
        "plt.title(f\"Confusion Matrix - {model_name}\")\n",
        "plt.xlabel(\"Predicted Labels\")\n",
        "plt.ylabel(\"True Labels\")\n",
        "plt.tight_layout()\n",
        "\n",
        "plt.show()\n",
        "plt.close()  # Close figure to free memory\n"
      ],
      "metadata": {
        "colab": {
          "base_uri": "https://localhost:8080/",
          "height": 493
        },
        "id": "m5lJy9ziCnkm",
        "outputId": "46285d45-af2f-4e31-f1f3-bbf7c5b89c80"
      },
      "execution_count": null,
      "outputs": [
        {
          "output_type": "display_data",
          "data": {
            "text/plain": [
              "<IPython.core.display.Markdown object>"
            ],
            "text/markdown": "## Classification Report\n```\n              precision    recall  f1-score   support\n\n           0       0.99      0.99      0.99      6922\n           1       0.56      0.45      0.50       130\n\n    accuracy                           0.98      7052\n   macro avg       0.78      0.72      0.74      7052\nweighted avg       0.98      0.98      0.98      7052\n\n```"
          },
          "metadata": {}
        },
        {
          "output_type": "display_data",
          "data": {
            "text/plain": [
              "<Figure size 400x300 with 2 Axes>"
            ],
            "image/png": "[encoded data removed]"
          },
          "metadata": {}
        }
      ]
    },
    {
      "cell_type": "code",
      "source": [
        "from google.colab import drive\n",
        "import shutil\n",
        "import os\n",
        "\n",
        "# Mount Google Drive (if not already mounted)\n",
        "try:\n",
        "    drive.mount('/content/drive', force_remount=True)\n",
        "except:\n",
        "    drive.mount('/content/drive')\n",
        "\n",
        "\n",
        "# Define the path to the file in your Drive\n",
        "file_path_in_drive = '/content/drive/MyDrive/SENAI/data/bootcamp_test.csv'\n",
        "destination_path = './bootcamp_test.csv'\n",
        "\n",
        "# Check if the file exists in Drive and copy it\n",
        "if os.path.exists(file_path_in_drive):\n",
        "    shutil.copyfile(file_path_in_drive, destination_path)\n",
        "    print(f\"File copied from '{file_path_in_drive}' to '{destination_path}'\")\n",
        "else:\n",
        "    print(f\"File not found in Drive at '{file_path_in_drive}'\")"
      ],
      "metadata": {
        "colab": {
          "base_uri": "https://localhost:8080/"
        },
        "id": "_nzAdzcnFt1k",
        "outputId": "685e30a0-6f75-4873-cce0-1147e785398b"
      },
      "execution_count": null,
      "outputs": [
        {
          "output_type": "stream",
          "name": "stdout",
          "text": [
            "Mounted at /content/drive\n",
            "File copied from '/content/drive/MyDrive/SENAI/data/bootcamp_test.csv' to './bootcamp_test.csv'\n"
          ]
        }
      ]
    },
    {
      "cell_type": "code",
      "source": [
        "df_test = pd.read_csv(\"bootcamp_test.csv\")\n",
        "df_test['sensor_ok'] = True\n",
        "\n",
        "# Manter IDs para resultado final\n",
        "test_ids = df_test[['id']].copy()\n",
        "\n",
        "# Remover colunas desnecessárias\n",
        "columns_to_drop = ['id']\n",
        "if 'id_produto' in df_test.columns:\n",
        "    columns_to_drop.append('id_produto')\n",
        "\n",
        "df_test_processed = df_test.drop(columns=columns_to_drop, errors='ignore')\n",
        "\n",
        "# Fazer predições usando Random Forest com undersampling\n",
        "test_predictions, test_probabilities = predict_with_optimized_threshold(\n",
        "    final_model, preprocessor, undersampler_final, df_test_processed, threshold = 0.5\n",
        ")\n",
        "\n",
        "# Criar DataFrame com resultados\n",
        "results_df = pd.DataFrame({\n",
        "    'id': test_ids['id'],\n",
        "    'falha_maquina': test_predictions,\n",
        "    'probabilidade_falha': test_probabilities\n",
        "})\n",
        "\n",
        "print(\"PREDIÇÕES PARA DADOS DE TESTE:\")\n",
        "print(f\"Total de amostras: {len(results_df)}\")\n",
        "print(f\"Predições de falha: {results_df['falha_maquina'].sum()}\")\n",
        "print(f\"Taxa de falha predita: {results_df['falha_maquina'].mean():.2%}\")\n",
        "print(f\"Probabilidade média de falha: {results_df['probabilidade_falha'].mean():.4f}\")\n",
        "\n",
        "# Estatísticas das probabilidades\n",
        "print(f\"\\nESTATÍSTICAS DAS PROBABILIDADES:\")\n",
        "print(f\"Mínima: {results_df['probabilidade_falha'].min():.4f}\")\n",
        "print(f\"Máxima: {results_df['probabilidade_falha'].max():.4f}\")\n",
        "print(f\"Mediana: {results_df['probabilidade_falha'].median():.4f}\")\n",
        "print(f\"Threshold usado: {best_threshold:.4f}\")\n",
        "\n",
        "results_df['falha_maquina'] = results_df['probabilidade_falha']\n",
        "# Salvar resultados\n",
        "results_df.to_csv('machine_failure_predictions_rf_undersample.csv', columns = ['id', 'falha_maquina'], index=False)\n",
        "print(\"\\nResultados salvos em 'machine_failure_predictions_rf_undersample.csv'\")\n",
        "\n"
      ],
      "metadata": {
        "colab": {
          "base_uri": "https://localhost:8080/"
        },
        "id": "ozxHv1RtFgHQ",
        "outputId": "60f36e7d-2a61-4e9d-feb1-c8d41217abf3"
      },
      "execution_count": null,
      "outputs": [
        {
          "output_type": "stream",
          "name": "stdout",
          "text": [
            "PREDIÇÕES PARA DADOS DE TESTE:\n",
            "Total de amostras: 7173\n",
            "Predições de falha: 300\n",
            "Taxa de falha predita: 4.18%\n",
            "Probabilidade média de falha: 0.0611\n",
            "\n",
            "ESTATÍSTICAS DAS PROBABILIDADES:\n",
            "Mínima: 0.0006\n",
            "Máxima: 0.9936\n",
            "Mediana: 0.0070\n",
            "Threshold usado: 0.7590\n",
            "\n",
            "Resultados salvos em 'machine_failure_predictions_rf_undersample.csv'\n"
          ]
        }
      ]
    },
    {
      "cell_type": "code",
      "source": [
        "\n",
        "# Salvar modelo treinado\n",
        "model_artifacts = {\n",
        "    'model': final_model,\n",
        "    'preprocessor': preprocessor,\n",
        "    'undersampler': undersampler_final,\n",
        "    'threshold': best_threshold,\n",
        "    'label_encoder': label_encoder,\n",
        "    'feature_names': list(X.columns),\n",
        "    'model_type': 'XGBoost_Undersampling_90_10',\n",
        "    'performance_metrics': {\n",
        "        'f1_score': 0.4589,\n",
        "        'precision': 0.4136,\n",
        "        'recall': 0.5154,\n",
        "        'auc_roc': 0.9007\n",
        "    }\n",
        "}\n",
        "\n",
        "joblib.dump(model_artifacts, 'xgboost_undersample_model.pkl')\n",
        "print(\"Modelo salvo em 'xgboost_undersample_model.pkl'\")"
      ],
      "metadata": {
        "colab": {
          "base_uri": "https://localhost:8080/"
        },
        "id": "pNK8ek-iF8uV",
        "outputId": "a8970599-6a7f-49ce-d10b-d5fbeb740089"
      },
      "execution_count": null,
      "outputs": [
        {
          "output_type": "stream",
          "name": "stdout",
          "text": [
            "Modelo salvo em 'xgboost_undersample_model.pkl'\n"
          ]
        }
      ]
    },
    {
      "cell_type": "code",
      "source": [
        "# Salvar modelo treinado\n",
        "from sklearn.pipeline import Pipeline\n",
        "\n",
        "# Create the full pipeline including the preprocessor and the final model\n",
        "full_pipeline = Pipeline([\n",
        "    ('preprocessor', preprocessor),\n",
        "    ('classifier', final_model)\n",
        "])\n",
        "\n",
        "\n",
        "model_artifacts = {\n",
        "    'pipeline': full_pipeline,\n",
        "    'undersampler': undersampler_final, # Undersampler is part of training process, not the pipeline\n",
        "    'threshold': best_threshold,\n",
        "    'label_encoder': label_encoder,\n",
        "    'feature_names': list(X.columns),\n",
        "    'model_type': 'XGBoost_Undersampling_90_10',\n",
        "    'performance_metrics': {\n",
        "        'f1_score': 0.4589,\n",
        "        'precision': 0.4136,\n",
        "        'recall': 0.5154,\n",
        "        'auc_roc': 0.9007\n",
        "    }\n",
        "}\n",
        "\n",
        "joblib.dump(model_artifacts, 'xgboost_undersample_pipeline.pkl')\n",
        "print(\"Pipeline salva em 'xgboost_undersample_pipeline.pkl'\")"
      ],
      "metadata": {
        "colab": {
          "base_uri": "https://localhost:8080/"
        },
        "id": "3qBCwflMJYjV",
        "outputId": "a4da4b1d-06c5-4eca-9b8b-ec53f072983d"
      },
      "execution_count": null,
      "outputs": [
        {
          "output_type": "stream",
          "name": "stdout",
          "text": [
            "Pipeline salva em 'xgboost_undersample_pipeline.pkl'\n"
          ]
        }
      ]
    },
    {
      "cell_type": "code",
      "source": [
        "from google.colab import userdata\n",
        "\n",
        "class APISettings:\n",
        "  EMAIL = 'joaowinderfeldbussolotto@gmail.com'\n",
        "  PASSWORD = userdata.get(\"BOOTCAMP_API_PASSWORD\")\n",
        "  URL = userdata.get(\"BOOTCAMP_SENAI_API_URL\")\n",
        "\n",
        "api_settings = APISettings()"
      ],
      "metadata": {
        "id": "CnTsOjtUM85U"
      },
      "execution_count": null,
      "outputs": []
    },
    {
      "cell_type": "code",
      "source": [
        "\n",
        "\n"
      ],
      "metadata": {
        "id": "jBMSBH8GNmcw"
      },
      "execution_count": null,
      "outputs": []
    },
    {
      "cell_type": "code",
      "metadata": {
        "id": "a183999f"
      },
      "source": [
        "import requests\n",
        "\n",
        "def retrieve_token(api_settings: APISettings):\n",
        "    \"\"\"\n",
        "    Retrieves an authentication token from the API.\n",
        "\n",
        "    Args:\n",
        "        api_settings: An instance of APISettings containing API credentials.\n",
        "\n",
        "    Returns:\n",
        "        str: The authentication token if successful, None otherwise.\n",
        "    \"\"\"\n",
        "    token_url = f\"{api_settings.URL}/users/token/retrieve\"\n",
        "    payload = {\n",
        "        'grant_type': 'password',\n",
        "        'username': api_settings.EMAIL,\n",
        "        'password': api_settings.PASSWORD,\n",
        "        'scope': '',\n",
        "    }\n",
        "    headers = {\n",
        "        'accept': 'application/json',\n",
        "        'Content-Type': 'application/x-www-form-urlencoded'\n",
        "    }\n",
        "\n",
        "    try:\n",
        "        response = requests.post(token_url, data=payload, headers=headers)\n",
        "        response.raise_for_status()  # Raise an exception for bad status codes\n",
        "\n",
        "        token_data = response.json()\n",
        "        token = token_data.get('token')\n",
        "\n",
        "        if token:\n",
        "            print(\"Token retrieved successfully!\")\n",
        "            return token\n",
        "        else:\n",
        "            print(\"Failed to retrieve token: 'token' not found in response.\")\n",
        "            return None\n",
        "\n",
        "    except requests.exceptions.RequestException as e:\n",
        "        print(f\"Error retrieving token: {e}\")\n",
        "        return None"
      ],
      "execution_count": null,
      "outputs": []
    },
    {
      "cell_type": "code",
      "source": [
        "token = retrieve_token(api_settings)\n",
        "token[:5]"
      ],
      "metadata": {
        "colab": {
          "base_uri": "https://localhost:8080/",
          "height": 52
        },
        "id": "ynoXpvy-OX5U",
        "outputId": "564d6572-00d6-44ef-f5eb-3ee0f8f4a927"
      },
      "execution_count": null,
      "outputs": [
        {
          "output_type": "stream",
          "name": "stdout",
          "text": [
            "Token retrieved successfully!\n"
          ]
        },
        {
          "output_type": "execute_result",
          "data": {
            "text/plain": [
              "'57992'"
            ],
            "application/vnd.google.colaboratory.intrinsic+json": {
              "type": "string"
            }
          },
          "metadata": {},
          "execution_count": 56
        }
      ]
    },
    {
      "cell_type": "code",
      "source": [
        "import requests\n",
        "\n",
        "headers = {\"X-API-Key\": token}\n",
        "files = {\"file\": open(\"machine_failure_predictions_rf_undersample.csv\", \"rb\")}\n",
        "params = {\"threshold\": 0.5}\n",
        "response = requests.post(f\"{api_settings.URL}/evaluate/binary_metrics\", headers=headers, files=files, params=params)\n",
        "data = response.json()"
      ],
      "metadata": {
        "id": "HD9DkBbQOgn2"
      },
      "execution_count": null,
      "outputs": []
    },
    {
      "cell_type": "code",
      "source": [
        "import numpy as np\n",
        "import pandas as pd\n",
        "import seaborn as sns\n",
        "import matplotlib.pyplot as plt\n",
        "from IPython.display import display\n",
        "\n",
        "def _scalar(x):\n",
        "    if isinstance(x, (list, tuple)) and len(x) == 1:\n",
        "        x = x[0]\n",
        "    try:\n",
        "        return float(x)\n",
        "    except Exception:\n",
        "        return None\n",
        "\n",
        "def _extract_cm(data):\n",
        "    cm = data.get(\"confusion_matrix\")\n",
        "    if cm is None:\n",
        "        return None\n",
        "    arr = np.array(cm, dtype=float)\n",
        "    if arr.size == 4:\n",
        "        return arr.reshape(2, 2)\n",
        "    if arr.shape == (1, 2, 2):\n",
        "        return arr[0]\n",
        "    return None\n",
        "\n",
        "def display_minimal_metrics(data, class_labels=(\"Negativo\", \"Positivo\")):\n",
        "    # Tabela de métricas (sem curvas)\n",
        "    rows = [\n",
        "        (\"Accuracy\", _scalar(data.get(\"accuracy\")) or _scalar(data.get(\"macro_accuracy\"))),\n",
        "        (\"Precision\", _scalar(data.get(\"precision\"))),\n",
        "        (\"Recall\", _scalar(data.get(\"recall\"))),\n",
        "        (\"F1-score\", _scalar(data.get(\"f1_score\"))),\n",
        "        (\"ROC AUC\", _scalar(data.get(\"roc_auc\")) or _scalar(data.get(\"macro_roc_auc\"))),\n",
        "    ]\n",
        "    df = pd.DataFrame(rows, columns=[\"Métrica\", \"Valor\"]).dropna()\n",
        "    display(df.style.format({\"Valor\": \"{:.6f}\"}).hide(axis=\"index\"))\n",
        "\n",
        "    # Matriz de confusão (contagens + % por classe real)\n",
        "    cm = _extract_cm(data)\n",
        "    if cm is None:\n",
        "        return\n",
        "    cm = cm.astype(int)\n",
        "    row_sums = cm.sum(axis=1, keepdims=True)\n",
        "    annot = np.empty_like(cm, dtype=object)\n",
        "    for i in range(2):\n",
        "        for j in range(2):\n",
        "            pct = cm[i, j] / row_sums[i, 0] if row_sums[i, 0] > 0 else 0.0\n",
        "            annot[i, j] = f\"{cm[i, j]}\\n({pct:.1%})\"\n",
        "\n",
        "    plt.figure(figsize=(5, 4), dpi=120)\n",
        "    sns.heatmap(\n",
        "        cm,\n",
        "        annot=annot,\n",
        "        fmt=\"\",\n",
        "        cmap=\"Blues\",\n",
        "        cbar=False,\n",
        "        xticklabels=[f\"Pred {class_labels[0]}\", f\"Pred {class_labels[1]}\"],\n",
        "        yticklabels=[f\"Real {class_labels[0]}\", f\"Real {class_labels[1]}\"],\n",
        "    )\n",
        "    plt.title(\"Matriz de Confusão\")\n",
        "    plt.tight_layout()\n",
        "    plt.show()"
      ],
      "metadata": {
        "id": "rxZBWSvdOyjs"
      },
      "execution_count": null,
      "outputs": []
    },
    {
      "cell_type": "code",
      "source": [
        "display_minimal_metrics(data)\n",
        "#"
      ],
      "metadata": {
        "colab": {
          "base_uri": "https://localhost:8080/",
          "height": 674
        },
        "id": "7oEcisIjP_Dn",
        "outputId": "91a63394-277c-4309-f4f1-ef8be7dd51d5"
      },
      "execution_count": null,
      "outputs": [
        {
          "output_type": "display_data",
          "data": {
            "text/plain": [
              "<pandas.io.formats.style.Styler at 0x77fda6ae6720>"
            ],
            "text/html": [
              "<style type=\"text/css\">\n",
              "</style>\n",
              "<table id=\"T_09042\" class=\"dataframe\">\n",
              "  <thead>\n",
              "    <tr>\n",
              "      <th id=\"T_09042_level0_col0\" class=\"col_heading level0 col0\" >Métrica</th>\n",
              "      <th id=\"T_09042_level0_col1\" class=\"col_heading level0 col1\" >Valor</th>\n",
              "    </tr>\n",
              "  </thead>\n",
              "  <tbody>\n",
              "    <tr>\n",
              "      <td id=\"T_09042_row0_col0\" class=\"data row0 col0\" >Accuracy</td>\n",
              "      <td id=\"T_09042_row0_col1\" class=\"data row0 col1\" >0.968214</td>\n",
              "    </tr>\n",
              "    <tr>\n",
              "      <td id=\"T_09042_row1_col0\" class=\"data row1 col0\" >Precision</td>\n",
              "      <td id=\"T_09042_row1_col1\" class=\"data row1 col1\" >0.630000</td>\n",
              "    </tr>\n",
              "    <tr>\n",
              "      <td id=\"T_09042_row2_col0\" class=\"data row2 col0\" >Recall</td>\n",
              "      <td id=\"T_09042_row2_col1\" class=\"data row2 col1\" >0.617647</td>\n",
              "    </tr>\n",
              "    <tr>\n",
              "      <td id=\"T_09042_row3_col0\" class=\"data row3 col0\" >F1-score</td>\n",
              "      <td id=\"T_09042_row3_col1\" class=\"data row3 col1\" >0.623762</td>\n",
              "    </tr>\n",
              "    <tr>\n",
              "      <td id=\"T_09042_row4_col0\" class=\"data row4 col0\" >ROC AUC</td>\n",
              "      <td id=\"T_09042_row4_col1\" class=\"data row4 col1\" >0.902875</td>\n",
              "    </tr>\n",
              "  </tbody>\n",
              "</table>\n"
            ]
          },
          "metadata": {}
        },
        {
          "output_type": "display_data",
          "data": {
            "text/plain": [
              "<Figure size 600x480 with 1 Axes>"
            ],
            "image/png": "[encoded data removed]"
          },
          "metadata": {}
        }
      ]
    }
  ]
}